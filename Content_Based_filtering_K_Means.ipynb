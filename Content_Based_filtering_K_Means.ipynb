{
 "cells": [
  {
   "cell_type": "code",
   "execution_count": null,
   "metadata": {
    "execution": {
     "iopub.execute_input": "2024-07-16T13:33:03.678973Z",
     "iopub.status.busy": "2024-07-16T13:33:03.678615Z",
     "iopub.status.idle": "2024-07-16T13:33:04.914543Z",
     "shell.execute_reply": "2024-07-16T13:33:04.913699Z",
     "shell.execute_reply.started": "2024-07-16T13:33:03.678946Z"
    },
    "id": "qYnqkolmksS2"
   },
   "outputs": [],
   "source": [
    "# from tqdm import tqdm\n",
    "import numpy as np\n",
    "import os\n",
    "from torchvision import models, transforms\n",
    "model = models.vgg16(pretrained=True)\n",
    "import cv2\n",
    "# from google.colab.patches import cv2_imshow\n",
    "import torch\n",
    "from torch import optim, nn\n",
    "from numpy.ma.core import argmin\n",
    "from sklearn.cluster import KMeans\n",
    "from sklearn import metrics\n",
    "from sklearn.metrics import pairwise_distances\n",
    "import matplotlib.pyplot as plt\n",
    "from keras.preprocessing import image\n",
    "from PIL import ImageFile\n",
    "ImageFile.LOAD_TRUNCATED_IMAGES = True\n",
    "from yellowbrick.cluster import KElbowVisualizer"
   ]
  },
  {
   "cell_type": "code",
   "execution_count": null,
   "metadata": {
    "execution": {
     "iopub.execute_input": "2024-07-16T13:33:28.519674Z",
     "iopub.status.busy": "2024-07-16T13:33:28.519287Z",
     "iopub.status.idle": "2024-07-16T13:33:29.839415Z",
     "shell.execute_reply": "2024-07-16T13:33:29.838581Z",
     "shell.execute_reply.started": "2024-07-16T13:33:28.519625Z"
    },
    "id": "rGQl-T8jk7HO"
   },
   "outputs": [],
   "source": [
    "class FeatureExtractor(nn.Module):\n",
    "    def __init__(self, model):\n",
    "        super(FeatureExtractor, self).__init__()\n",
    "            # Extract VGG-16 Feature Layers\n",
    "        self.features = list(model.features)\n",
    "        self.features = nn.Sequential(*self.features)\n",
    "            # Extract VGG-16 Average Pooling Layer\n",
    "        self.pooling = model.avgpool\n",
    "            # Convert the image into one-dimensional vector\n",
    "        self.flatten = nn.Flatten()\n",
    "            # Extract the first part of fully-connected layer from VGG16\n",
    "        self.fc = model.classifier[0]\n",
    "  \n",
    "    def forward(self, x):\n",
    "        # It will take the input 'x' until it returns the feature vector called 'out'\n",
    "        out = self.features(x)\n",
    "        out = self.pooling(out)\n",
    "        out = self.flatten(out)\n",
    "        out = self.fc(out) \n",
    "        return out \n",
    "\n",
    "# Initialize the model\n",
    "model = models.vgg16(pretrained=True)\n",
    "new_model = FeatureExtractor(model)\n",
    "\n",
    "# Change the device to GPU\n",
    "device = torch.device('cuda:0' if torch.cuda.is_available() else \"cpu\")\n",
    "new_model = new_model.to(device)"
   ]
  },
  {
   "cell_type": "code",
   "execution_count": null,
   "metadata": {
    "execution": {
     "iopub.execute_input": "2024-07-16T13:36:19.869275Z",
     "iopub.status.busy": "2024-07-16T13:36:19.868883Z",
     "iopub.status.idle": "2024-07-16T13:36:19.876247Z",
     "shell.execute_reply": "2024-07-16T13:36:19.875214Z",
     "shell.execute_reply.started": "2024-07-16T13:36:19.869247Z"
    }
   },
   "outputs": [],
   "source": [
    "new_model"
   ]
  },
  {
   "cell_type": "code",
   "execution_count": null,
   "metadata": {
    "execution": {
     "iopub.execute_input": "2024-07-16T13:36:42.962588Z",
     "iopub.status.busy": "2024-07-16T13:36:42.962227Z",
     "iopub.status.idle": "2024-07-16T13:37:59.284156Z",
     "shell.execute_reply": "2024-07-16T13:37:59.283237Z",
     "shell.execute_reply.started": "2024-07-16T13:36:42.962558Z"
    }
   },
   "outputs": [],
   "source": [
    "# Transform the image, so it becomes readable with the model\n",
    "transform = transforms.Compose([\n",
    "  transforms.ToPILImage(),\n",
    "  transforms.CenterCrop(512),\n",
    "  transforms.Resize(448),\n",
    "  transforms.ToTensor()                              \n",
    "])\n",
    "\n",
    "features = []\n",
    "x=[]\n",
    "path = '/kaggle/input/h-and-m-personalized-fashion-recommendations/images/'\n",
    "\n",
    "for root, directories, files in os.walk(path):\n",
    "  for filename in files:\n",
    "    \n",
    "    if filename.endswith((\".jpg\", \".jpeg\", \".png\")):\n",
    "      \n",
    "      image_path = os.path.join(root, filename)\n",
    "      x.append(image_path)  \n",
    "print(\"Total images:\", len(x))"
   ]
  },
  {
   "cell_type": "code",
   "execution_count": null,
   "metadata": {
    "execution": {
     "iopub.execute_input": "2024-07-16T13:38:39.568036Z",
     "iopub.status.busy": "2024-07-16T13:38:39.567626Z",
     "iopub.status.idle": "2024-07-16T13:44:10.207204Z",
     "shell.execute_reply": "2024-07-16T13:44:10.206373Z",
     "shell.execute_reply.started": "2024-07-16T13:38:39.568007Z"
    }
   },
   "outputs": [],
   "source": [
    "y=x[0:10000]\n",
    "for i in y:\n",
    "    # Set the image path\n",
    "    #imagePath = os.path.join(path, str(i))\n",
    "    # Read the file\n",
    "    img = cv2.imread(i)\n",
    "    # Transform the image\n",
    "    img = transform(img)\n",
    "    # Reshape the image. PyTorch model reads 4-dimensional tensor\n",
    "    # [batch_size, channels, width, height]\n",
    "    img = img.reshape(1, 3, 448, 448)\n",
    "    img = img.to(device)\n",
    "    # We only extract features, so we don't need gradient\n",
    "    with torch.no_grad():\n",
    "      # Extract the feature from the image\n",
    "      feature = new_model(img)\n",
    "    # Convert to NumPy Array, Reshape it, and save it to features variable\n",
    "    features.append(feature.cpu().detach().numpy().reshape(-1))\n",
    "\n"
   ]
  },
  {
   "cell_type": "code",
   "execution_count": null,
   "metadata": {
    "execution": {
     "iopub.execute_input": "2024-07-16T13:44:17.300730Z",
     "iopub.status.busy": "2024-07-16T13:44:17.300335Z",
     "iopub.status.idle": "2024-07-16T13:44:17.306827Z",
     "shell.execute_reply": "2024-07-16T13:44:17.305887Z",
     "shell.execute_reply.started": "2024-07-16T13:44:17.300701Z"
    }
   },
   "outputs": [],
   "source": [
    "len(features)"
   ]
  },
  {
   "cell_type": "code",
   "execution_count": null,
   "metadata": {
    "execution": {
     "iopub.execute_input": "2024-07-16T13:44:19.521539Z",
     "iopub.status.busy": "2024-07-16T13:44:19.521167Z",
     "iopub.status.idle": "2024-07-16T13:44:19.584605Z",
     "shell.execute_reply": "2024-07-16T13:44:19.583395Z",
     "shell.execute_reply.started": "2024-07-16T13:44:19.521510Z"
    }
   },
   "outputs": [],
   "source": [
    "# Convert to NumPy Array\n",
    "features = np.array(features)\n",
    "print(features.shape)\n",
    "print(features[0])"
   ]
  },
  {
   "cell_type": "code",
   "execution_count": null,
   "metadata": {
    "execution": {
     "iopub.execute_input": "2024-07-16T13:44:21.958260Z",
     "iopub.status.busy": "2024-07-16T13:44:21.957516Z",
     "iopub.status.idle": "2024-07-16T14:32:16.481406Z",
     "shell.execute_reply": "2024-07-16T14:32:16.480165Z",
     "shell.execute_reply.started": "2024-07-16T13:44:21.958227Z"
    },
    "id": "0OR1Rb8JlEjo"
   },
   "outputs": [],
   "source": [
    "# Initialize the model\n",
    "min_num_clusters = 15\n",
    "max_num_clusters = 50\n",
    "silhouette_scores = []\n",
    "davies_bouldin_scores = []\n",
    "# print(\"Silhouette Scores\")\n",
    "\n",
    "print(\"k \\t Silhouette \\t DB\")\n",
    "for num_clusters in range(min_num_clusters, max_num_clusters):\n",
    "    print()\n",
    "    model = KMeans(n_clusters=num_clusters)\n",
    "\n",
    "    # Fit the data into the model\n",
    "    model.fit(features)\n",
    "\n",
    "    # Extract the labels\n",
    "    labels = model.labels_\n",
    "\n",
    "    # Calculate Silhouette score\n",
    "    s = metrics.silhouette_score(features, labels, metric='euclidean')\n",
    "    silhouette_scores.append(s)\n",
    "    d = metrics.davies_bouldin_score(features, labels)\n",
    "    davies_bouldin_scores.append(d)\n",
    "    print(num_clusters, \"\\t\", s, \"\\t\", d)\n",
    "\n",
    "\n",
    "silhouette_scores = np.array(silhouette_scores)\n",
    "davies_bouldin_scores = np.array(davies_bouldin_scores)"
   ]
  },
  {
   "cell_type": "code",
   "execution_count": null,
   "metadata": {
    "execution": {
     "iopub.execute_input": "2024-07-16T14:33:47.820622Z",
     "iopub.status.busy": "2024-07-16T14:33:47.819858Z",
     "iopub.status.idle": "2024-07-16T15:17:35.387418Z",
     "shell.execute_reply": "2024-07-16T15:17:35.386515Z",
     "shell.execute_reply.started": "2024-07-16T14:33:47.820588Z"
    },
    "id": "y9COHXH-JGbr",
    "outputId": "607ab735-c0dc-4349-964b-a7cf0623bbb3"
   },
   "outputs": [],
   "source": [
    "model = KMeans()\n",
    "visualizer = KElbowVisualizer(model, k=(min_num_clusters, max_num_clusters))\n",
    "visualizer.fit(features)    # Fit the data to the visualizer\n",
    "visualizer.show()           # Finalize and render the figure"
   ]
  },
  {
   "cell_type": "code",
   "execution_count": null,
   "metadata": {
    "execution": {
     "iopub.execute_input": "2024-07-16T15:18:36.816074Z",
     "iopub.status.busy": "2024-07-16T15:18:36.815399Z",
     "iopub.status.idle": "2024-07-16T15:18:36.821765Z",
     "shell.execute_reply": "2024-07-16T15:18:36.820812Z",
     "shell.execute_reply.started": "2024-07-16T15:18:36.816038Z"
    },
    "id": "lZfRc0ndGzT1",
    "outputId": "48b450d7-616c-4f8c-ae34-446831f97495"
   },
   "outputs": [],
   "source": [
    "best_num_clusters = visualizer.elbow_value_\n",
    "# best_num_clusters = visualizer.elbow_\n",
    "best_num_clusters_index = best_num_clusters - min_num_clusters  \n",
    "\n",
    "print(\"Optimal no. of clusters is\", best_num_clusters, \"by Elbow Method\")\n",
    "\n",
    "\n",
    "# best_num_clusters_index = np.argmax(silhouette_scores)\n",
    "# best_num_clusters = min_num_clusters + best_num_clusters_index\n",
    "# print(\"Silhouette Scores\")\n",
    "# for i in range(len(silhouette_scores)):\n",
    "#   print(i, \":\", silhouette_scores[i])\n",
    "\n",
    "# print(\"Optimal no. of clusters is\", best_num_clusters, \"with Silhouette score of\", silhouette_scores[best_num_clusters_index])\n",
    "\n",
    "\n",
    "# best_num_clusters_index = np.argmax(davies_bouldin_scores)\n",
    "# best_num_clusters = min_num_clusters + best_num_clusters_index \n",
    "# # print(\"Silhouette Scores\")\n",
    "# # for i in range(len(silhouette_scores)):\n",
    "# #   print(i, \":\", silhouette_scores[i])\n",
    "\n",
    "# print(\"Optimal no. of clusters is\", best_num_clusters, \"with David Bouldin score of\", davies_bouldin_scores[best_num_clusters_index])"
   ]
  },
  {
   "cell_type": "code",
   "execution_count": null,
   "metadata": {
    "execution": {
     "iopub.execute_input": "2024-07-16T15:18:39.233414Z",
     "iopub.status.busy": "2024-07-16T15:18:39.232457Z",
     "iopub.status.idle": "2024-07-16T15:19:49.851171Z",
     "shell.execute_reply": "2024-07-16T15:19:49.850321Z",
     "shell.execute_reply.started": "2024-07-16T15:18:39.233379Z"
    },
    "id": "diVR8p5HvjUw"
   },
   "outputs": [],
   "source": [
    "num_clusters = best_num_clusters\n",
    "model = KMeans(n_clusters=num_clusters)\n",
    "model.fit(features)\n",
    "labels = model.labels_\n",
    "labels = np.array(labels)"
   ]
  },
  {
   "cell_type": "code",
   "execution_count": null,
   "metadata": {
    "execution": {
     "iopub.execute_input": "2024-07-16T15:19:58.161177Z",
     "iopub.status.busy": "2024-07-16T15:19:58.160438Z",
     "iopub.status.idle": "2024-07-16T15:23:55.717021Z",
     "shell.execute_reply": "2024-07-16T15:23:55.715330Z",
     "shell.execute_reply.started": "2024-07-16T15:19:58.161144Z"
    },
    "id": "KLD7quOwktPq",
    "outputId": "097358b4-4cdb-4c6a-ed97-b9abf2e6cce2"
   },
   "outputs": [],
   "source": [
    "for k in range(5, 10):\n",
    "    num = 0\n",
    "    print(\"\\nCluster \", k)\n",
    "    numImages = len(np.where(labels == k)[0])\n",
    "    # print(numImages)\n",
    "    numRows = int(numImages / 10) + 1\n",
    "    numCols = 10\n",
    "    fig = plt.figure(k, figsize=(numCols * 5.0  , numRows * 5.0))\n",
    "    for i in range(labels.shape[0]):\n",
    "        if(labels[i] == k):\n",
    "            #imagePath = os.path.join(path + '/', str(images[i]))\n",
    "            #imagepath=y[i]\n",
    "            #img = image.load_img(imagePath)\n",
    "            img = image.load_img(x[i])\n",
    "            plt.subplot(numRows, numCols, num+1)\n",
    "            plt.xticks([])\n",
    "            plt.yticks([])\n",
    "            plt.imshow(img)\n",
    "            num += 1\n",
    "    plt.show()\n",
    "# print(labels) # [4 3 3 ... 0 0 0]"
   ]
  },
  {
   "cell_type": "code",
   "execution_count": null,
   "metadata": {
    "execution": {
     "iopub.execute_input": "2024-07-16T15:24:49.625893Z",
     "iopub.status.busy": "2024-07-16T15:24:49.625299Z",
     "iopub.status.idle": "2024-07-16T15:24:51.118002Z",
     "shell.execute_reply": "2024-07-16T15:24:51.117201Z",
     "shell.execute_reply.started": "2024-07-16T15:24:49.625857Z"
    },
    "id": "6T1yr7rmDPvR",
    "outputId": "9d44097a-b16b-48b3-f80c-e645749b611b"
   },
   "outputs": [],
   "source": [
    "test_features = []\n",
    "test_path = '/kaggle/input/h-and-m-personalized-fashion-recommendations/images/022'\n",
    "test_images = os.listdir(test_path)\n",
    "print(\"Total test images:\", len(test_images))\n",
    "\n",
    "# Iterate each image\n",
    "for i in test_images:\n",
    "    # Set the image path\n",
    "    # ignore non-image data (if any)\n",
    "    if(str(i)[-4:] != '.jpg'):\n",
    "        continue\n",
    "    imagePath = os.path.join(test_path + '/', str(i))\n",
    "    # Read the file\n",
    "    img = cv2.imread(imagePath)\n",
    "    # Transform the image\n",
    "    img = transform(img)\n",
    "    # Reshape the image. PyTorch model reads 4-dimensional tensor\n",
    "    # [batch_size, channels, width, height]\n",
    "    img = img.reshape(1, 3, 448, 448)\n",
    "    img = img.to(device)\n",
    "    # We only extract features, so we don't need gradient\n",
    "    with torch.no_grad():\n",
    "      # Extract the feature from the image\n",
    "      feature = new_model(img)\n",
    "    # Convert to NumPy Array, Reshape it, and save it to features variable\n",
    "    test_features.append(feature.cpu().detach().numpy().reshape(-1))\n",
    "\n",
    "# Convert to NumPy Array\n",
    "test_features = np.array(test_features)\n",
    "\n",
    "# Predict the clusters for test data\n",
    "predicted_labels = model.predict(test_features)\n",
    "# print(predicted_labels)"
   ]
  },
  {
   "cell_type": "code",
   "execution_count": null,
   "metadata": {
    "execution": {
     "iopub.execute_input": "2024-07-16T15:24:55.868233Z",
     "iopub.status.busy": "2024-07-16T15:24:55.867610Z",
     "iopub.status.idle": "2024-07-16T15:26:35.243081Z",
     "shell.execute_reply": "2024-07-16T15:26:35.242201Z",
     "shell.execute_reply.started": "2024-07-16T15:24:55.868201Z"
    },
    "id": "VQn0PBTfmXR-",
    "outputId": "c3ad7590-e635-4d90-85e1-a57d5f0142b1"
   },
   "outputs": [],
   "source": [
    "from sklearn.metrics.pairwise import euclidean_distances\n",
    "\n",
    "for i in range(len(predicted_labels)):\n",
    "    k = predicted_labels[i]\n",
    "    curr_cluster = np.argwhere(labels == k).flatten()\n",
    "    dist = euclidean_distances(test_features[i].reshape((1, -1)), features[curr_cluster])\n",
    "    top_5 = curr_cluster[np.argsort(dist[0])[0:5]]\n",
    "    numRows = 1\n",
    "    numCols = 6\n",
    "    fig = plt.figure(i, figsize=(numCols * 5.0  , numRows * 5.0))\n",
    "    imagePath = os.path.join(test_path + '/', str(test_images[i]))\n",
    "    img1 = image.load_img(imagePath)\n",
    "    plt.subplot(numRows, numCols, 1)\n",
    "    plt.xticks([])\n",
    "    plt.yticks([])\n",
    "    plt.title(\"Original:\")\n",
    "    plt.imshow(img1)\n",
    "    num = 1\n",
    "    for j in range(5):\n",
    "        imagePath = os.path.join(path + '/', str(y[top_5[j]]))\n",
    "        img = image.load_img(imagePath)\n",
    "        plt.subplot(numRows, numCols, num+1)\n",
    "        plt.xticks([])\n",
    "        plt.yticks([])\n",
    "        plt.title(\"Top: \" + str(j+1))\n",
    "        plt.imshow(img)\n",
    "        num += 1\n",
    "    plt.show()"
   ]
  },
  {
   "cell_type": "code",
   "execution_count": null,
   "metadata": {},
   "outputs": [],
   "source": []
  }
 ],
 "metadata": {
  "accelerator": "GPU",
  "colab": {
   "collapsed_sections": [],
   "machine_shape": "hm",
   "name": "image_features.ipynb",
   "provenance": []
  },
  "kaggle": {
   "accelerator": "gpu",
   "dataSources": [
    {
     "databundleVersionId": 3103714,
     "sourceId": 31254,
     "sourceType": "competition"
    }
   ],
   "dockerImageVersionId": 30747,
   "isGpuEnabled": true,
   "isInternetEnabled": true,
   "language": "python",
   "sourceType": "notebook"
  },
  "kernelspec": {
   "display_name": "Python 3 (ipykernel)",
   "language": "python",
   "name": "python3"
  },
  "language_info": {
   "codemirror_mode": {
    "name": "ipython",
    "version": 3
   },
   "file_extension": ".py",
   "mimetype": "text/x-python",
   "name": "python",
   "nbconvert_exporter": "python",
   "pygments_lexer": "ipython3",
   "version": "3.11.5"
  }
 },
 "nbformat": 4,
 "nbformat_minor": 4
}
